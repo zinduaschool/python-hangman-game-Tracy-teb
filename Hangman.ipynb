{
  "cells": [
    {
      "cell_type": "code",
      "execution_count": 7,
      "metadata": {
        "id": "zDT1DRkbs8MO"
      },
      "outputs": [],
      "source": [
        "import random "
      ]
    },
    {
      "cell_type": "markdown",
      "metadata": {
        "id": "w8Id1jhnFPdh"
      },
      "source": [
        "Define a dictionaries of guesses you would want to use. Feel free to use any method to have your words defined, plus a theme, be it from a file. Here is an example of a key and value combination reflecting the words within the topic. "
      ]
    },
    {
      "cell_type": "code",
      "execution_count": 8,
      "metadata": {
        "id": "j50qAxhatq9S"
      },
      "outputs": [],
      "source": [
        "Themes = {\n",
        "    \"history\": [\n",
        "        \"marco polo\",\n",
        "        \"Napoleon\",\n",
        "        \"Mesopotamia\",\n",
        "        \"Persia\",\n",
        "        \"World War\"\n",
        "    ],\n",
        "    \"computers\": [\n",
        "        \"Bus\",\n",
        "        \"semiconductor\",\n",
        "        \"keyboard\",\n",
        "        \"vaccum tube\",\n",
        "        \"nanometer\"\n",
        "    ],\n",
        "     \"cars\": [\n",
        "        \"Dodge\",\n",
        "        \"Toyota\",\n",
        "        \"daihatsu\",\n",
        "        \"displacement\",\n",
        "        \"stroke\"\n",
        "    ]\n",
        "}"
      ]
    },
    {
      "cell_type": "code",
      "execution_count": 9,
      "metadata": {
        "id": "CuqJUAHKvVnQ"
      },
      "outputs": [],
      "source": [
        "\n",
        "## You can use this function to get the keys in your dictionary for which you want to use as a theme \n",
        "def get_nth_key(dictionary, n=0):\n",
        "    if n < 0:\n",
        "        n += len(dictionary)\n",
        "    for i, key in enumerate(dictionary.keys()):\n",
        "        if i == n:\n",
        "            return key\n",
        "    raise IndexError(\"dictionary index out of range\") "
      ]
    },
    {
      "cell_type": "code",
      "execution_count": 10,
      "metadata": {
        "colab": {
          "base_uri": "https://localhost:8080/",
          "height": 35
        },
        "id": "btOETPFbv1Q2",
        "outputId": "1de466bb-bb10-4cad-806f-5cfb95d833e7"
      },
      "outputs": [
        {
          "data": {
            "text/plain": [
              "'history'"
            ]
          },
          "execution_count": 10,
          "metadata": {},
          "output_type": "execute_result"
        }
      ],
      "source": [
        "get_nth_key(Themes,n=random.randint(1,len(Themes))-1) # Choose at random which theme you want to use as a hint for the user. "
      ]
    },
    {
      "cell_type": "code",
      "execution_count": 11,
      "metadata": {
        "colab": {
          "base_uri": "https://localhost:8080/",
          "height": 35
        },
        "id": "A-ZxLMvKFkHN",
        "outputId": "29cc5362-f54b-4f1c-b69f-314bed2f03b8"
      },
      "outputs": [
        {
          "data": {
            "text/plain": [
              "'Mesopotamia'"
            ]
          },
          "execution_count": 11,
          "metadata": {},
          "output_type": "execute_result"
        }
      ],
      "source": [
        "random.choice(Themes[get_nth_key(Themes)]) # Use indexing to identify the masked word as shown. "
      ]
    },
    {
      "cell_type": "code",
      "execution_count": 12,
      "metadata": {
        "id": "jP5-6x_9Gthj"
      },
      "outputs": [],
      "source": [
        "# Use the above to define you get word function. \n",
        "\n",
        "def get_word():\n",
        "  ############\n",
        "  ############\n",
        "  return word.lower()"
      ]
    },
    {
      "cell_type": "code",
      "execution_count": 17,
      "metadata": {
        "id": "-APRiZ52wNhg"
      },
      "outputs": [],
      "source": [
        "###### Define your Play function with necessary lists containing the character and full word guessess. \n",
        "def play(word):\n",
        "    word_completion = \"_\" * len(word)\n",
        "    \n",
        "    # Define your lists with guessed characters and words here. \n",
        "    # Ensure you print the attempts remaining\n",
        "    while not fully_guessed and attempts > 0:\n",
        "        guessed = input(\"Please guess a letter  \")\n",
        "\n",
        "        # Define your rules here. Use a combination of conditionals and  string formating to combine your final guess into a word. \n",
        "        # For Every guess ensure you deduct from the attempts left. \n",
        "\n",
        "\n",
        "\n",
        "\n",
        "\n",
        "\n"
      ]
    },
    {
      "cell_type": "code",
      "execution_count": 15,
      "metadata": {
        "colab": {
          "base_uri": "https://localhost:8080/",
          "height": 35
        },
        "id": "OnwbvYHnDagB",
        "outputId": "69823ba2-bfbe-444d-c6dc-2a2f4bcfca66"
      },
      "outputs": [
        {
          "ename": "NameError",
          "evalue": "name 'guessed' is not defined",
          "output_type": "error",
          "traceback": [
            "\u001b[1;31m---------------------------------------------------------------------------\u001b[0m",
            "\u001b[1;31mNameError\u001b[0m                                 Traceback (most recent call last)",
            "Cell \u001b[1;32mIn[15], line 1\u001b[0m\n\u001b[1;32m----> 1\u001b[0m \u001b[43mguessed\u001b[49m(\u001b[38;5;124m'\u001b[39m\u001b[38;5;124mchris\u001b[39m\u001b[38;5;124m'\u001b[39m)\n",
            "\u001b[1;31mNameError\u001b[0m: name 'guessed' is not defined"
          ]
        }
      ],
      "source": [
        "guessed('chris')"
      ]
    }
  ],
  "metadata": {
    "colab": {
      "name": "Hangman.ipynb",
      "provenance": []
    },
    "kernelspec": {
      "display_name": "Python 3",
      "name": "python3"
    },
    "language_info": {
      "codemirror_mode": {
        "name": "ipython",
        "version": 3
      },
      "file_extension": ".py",
      "mimetype": "text/x-python",
      "name": "python",
      "nbconvert_exporter": "python",
      "pygments_lexer": "ipython3",
      "version": "3.12.3"
    }
  },
  "nbformat": 4,
  "nbformat_minor": 0
}
